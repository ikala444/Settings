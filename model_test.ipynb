{
 "cells": [
  {
   "cell_type": "markdown",
   "metadata": {},
   "source": [
    "# Загружаем нашу модель"
   ]
  },
  {
   "cell_type": "code",
   "execution_count": 2,
   "metadata": {},
   "outputs": [],
   "source": [
    "# Импортируем из билиотеки ultralytics модуль YOLO\n",
    "from ultralytics import YOLO\n",
    "# Импортируем библиотеку opencv\n",
    "import cv2\n",
    "from IPython.display import Image, clear_output, display\n",
    "from api import send_car_number\n",
    "# Сохраняем в переменную нашу модель с лучшими весами, полученными при обучение\n",
    "model = YOLO(r'..\\Модуль Б\\runs\\detect\\tune\\weights\\best.pt')"
   ]
  },
  {
   "cell_type": "markdown",
   "metadata": {},
   "source": [
    "# 1. Тест кейс"
   ]
  },
  {
   "cell_type": "code",
   "execution_count": 3,
   "metadata": {},
   "outputs": [
    {
     "name": "stdout",
     "output_type": "stream",
     "text": [
      "\n",
      "image 1/1 D:\\NumbersProject\\Модуль В\\data\\test_case\\1_1_1.jpg: 640x640 1 simple n, 73.0ms\n",
      "Speed: 3.0ms preprocess, 73.0ms inference, 1.0ms postprocess per image at shape (1, 3, 640, 640)\n",
      "[ultralytics.engine.results.Results object with attributes:\n",
      "\n",
      "boxes: ultralytics.engine.results.Boxes object\n",
      "keypoints: None\n",
      "masks: None\n",
      "names: {0: 'simple n', 1: 'militarry n', 2: 'goverment n', 3: 'police n'}\n",
      "obb: None\n",
      "orig_img: array([[[103, 113, 137],\n",
      "        [109, 119, 143],\n",
      "        [113, 120, 145],\n",
      "        ...,\n",
      "        [163, 176, 184],\n",
      "        [215, 234, 242],\n",
      "        [142, 162, 173]],\n",
      "\n",
      "       [[120, 130, 154],\n",
      "        [122, 133, 155],\n",
      "        [128, 135, 160],\n",
      "        ...,\n",
      "        [151, 163, 169],\n",
      "        [ 81,  96, 105],\n",
      "        [ 78,  97, 105]],\n",
      "\n",
      "       [[106, 114, 137],\n",
      "        [ 90,  99, 119],\n",
      "        [ 76,  84, 107],\n",
      "        ...,\n",
      "        [ 40,  46,  51],\n",
      "        [ 11,  20,  29],\n",
      "        [132, 145, 153]],\n",
      "\n",
      "       ...,\n",
      "\n",
      "       [[179, 195, 208],\n",
      "        [153, 169, 182],\n",
      "        [189, 205, 218],\n",
      "        ...,\n",
      "        [170, 189, 196],\n",
      "        [189, 208, 215],\n",
      "        [197, 216, 223]],\n",
      "\n",
      "       [[164, 180, 193],\n",
      "        [163, 179, 192],\n",
      "        [158, 174, 187],\n",
      "        ...,\n",
      "        [173, 192, 197],\n",
      "        [171, 190, 195],\n",
      "        [215, 234, 239]],\n",
      "\n",
      "       [[170, 186, 199],\n",
      "        [203, 219, 232],\n",
      "        [192, 208, 221],\n",
      "        ...,\n",
      "        [162, 181, 186],\n",
      "        [187, 206, 211],\n",
      "        [183, 202, 207]]], dtype=uint8)\n",
      "orig_shape: (736, 736)\n",
      "path: 'D:\\\\NumbersProject\\\\Модуль В\\\\data\\\\test_case\\\\1_1_1.jpg'\n",
      "probs: None\n",
      "save_dir: None\n",
      "speed: {'preprocess': 2.999544143676758, 'inference': 73.00043106079102, 'postprocess': 1.0004043579101562}]\n"
     ]
    }
   ],
   "source": [
    "# Передаем в переменную путь до нашего изображения\n",
    "image_path = r'D:\\NumbersProject\\Модуль В\\data\\test_case\\1_1_1.jpg'\n",
    "# Предсказываем\n",
    "img = cv2.imread(image_path)\n",
    "#model.predict(image_path)\n",
    "prediction = model.predict(image_path)\n",
    "print(prediction)\n",
    "x_min, y_min, x_max, y_max = prediction[0].boxes.xyxy[0]\n",
    "img_box =cv2.rectangle(img, (int(x_min), int(y_min)), (int(x_max), int(y_max)), (0, 0, 255), 2)\n",
    "cv2.imshow('Номер на авто', img)\n",
    "cv2.waitKey(0)\n",
    "cv2.destroyAllWindows()"
   ]
  },
  {
   "cell_type": "markdown",
   "metadata": {},
   "source": [
    "# 2. Тест кейс"
   ]
  },
  {
   "cell_type": "code",
   "execution_count": 5,
   "metadata": {},
   "outputs": [
    {
     "name": "stdout",
     "output_type": "stream",
     "text": [
      "В\n"
     ]
    },
    {
     "ename": "FileNotFoundError",
     "evalue": "No such file or directory: 'р'",
     "output_type": "error",
     "traceback": [
      "\u001b[1;31m---------------------------------------------------------------------------\u001b[0m",
      "\u001b[1;31mTypeError\u001b[0m                                 Traceback (most recent call last)",
      "File \u001b[1;32mc:\\Users\\user\\anaconda3\\envs\\Test\\lib\\site-packages\\IPython\\core\\display.py:1045\u001b[0m, in \u001b[0;36mImage._data_and_metadata\u001b[1;34m(self, always_both)\u001b[0m\n\u001b[0;32m   1044\u001b[0m \u001b[38;5;28;01mtry\u001b[39;00m:\n\u001b[1;32m-> 1045\u001b[0m     b64_data \u001b[38;5;241m=\u001b[39m \u001b[43mb2a_base64\u001b[49m\u001b[43m(\u001b[49m\u001b[38;5;28;43mself\u001b[39;49m\u001b[38;5;241;43m.\u001b[39;49m\u001b[43mdata\u001b[49m\u001b[43m,\u001b[49m\u001b[43m \u001b[49m\u001b[43mnewline\u001b[49m\u001b[38;5;241;43m=\u001b[39;49m\u001b[38;5;28;43;01mFalse\u001b[39;49;00m\u001b[43m)\u001b[49m\u001b[38;5;241m.\u001b[39mdecode(\u001b[38;5;124m\"\u001b[39m\u001b[38;5;124mascii\u001b[39m\u001b[38;5;124m\"\u001b[39m)\n\u001b[0;32m   1046\u001b[0m \u001b[38;5;28;01mexcept\u001b[39;00m \u001b[38;5;167;01mTypeError\u001b[39;00m \u001b[38;5;28;01mas\u001b[39;00m e:\n",
      "\u001b[1;31mTypeError\u001b[0m: a bytes-like object is required, not 'str'",
      "\nThe above exception was the direct cause of the following exception:\n",
      "\u001b[1;31mFileNotFoundError\u001b[0m                         Traceback (most recent call last)",
      "File \u001b[1;32mc:\\Users\\user\\anaconda3\\envs\\Test\\lib\\site-packages\\IPython\\core\\formatters.py:974\u001b[0m, in \u001b[0;36mMimeBundleFormatter.__call__\u001b[1;34m(self, obj, include, exclude)\u001b[0m\n\u001b[0;32m    971\u001b[0m     method \u001b[38;5;241m=\u001b[39m get_real_method(obj, \u001b[38;5;28mself\u001b[39m\u001b[38;5;241m.\u001b[39mprint_method)\n\u001b[0;32m    973\u001b[0m     \u001b[38;5;28;01mif\u001b[39;00m method \u001b[38;5;129;01mis\u001b[39;00m \u001b[38;5;129;01mnot\u001b[39;00m \u001b[38;5;28;01mNone\u001b[39;00m:\n\u001b[1;32m--> 974\u001b[0m         \u001b[38;5;28;01mreturn\u001b[39;00m \u001b[43mmethod\u001b[49m\u001b[43m(\u001b[49m\u001b[43minclude\u001b[49m\u001b[38;5;241;43m=\u001b[39;49m\u001b[43minclude\u001b[49m\u001b[43m,\u001b[49m\u001b[43m \u001b[49m\u001b[43mexclude\u001b[49m\u001b[38;5;241;43m=\u001b[39;49m\u001b[43mexclude\u001b[49m\u001b[43m)\u001b[49m\n\u001b[0;32m    975\u001b[0m     \u001b[38;5;28;01mreturn\u001b[39;00m \u001b[38;5;28;01mNone\u001b[39;00m\n\u001b[0;32m    976\u001b[0m \u001b[38;5;28;01melse\u001b[39;00m:\n",
      "File \u001b[1;32mc:\\Users\\user\\anaconda3\\envs\\Test\\lib\\site-packages\\IPython\\core\\display.py:1035\u001b[0m, in \u001b[0;36mImage._repr_mimebundle_\u001b[1;34m(self, include, exclude)\u001b[0m\n\u001b[0;32m   1033\u001b[0m \u001b[38;5;28;01mif\u001b[39;00m \u001b[38;5;28mself\u001b[39m\u001b[38;5;241m.\u001b[39membed:\n\u001b[0;32m   1034\u001b[0m     mimetype \u001b[38;5;241m=\u001b[39m \u001b[38;5;28mself\u001b[39m\u001b[38;5;241m.\u001b[39m_mimetype\n\u001b[1;32m-> 1035\u001b[0m     data, metadata \u001b[38;5;241m=\u001b[39m \u001b[38;5;28;43mself\u001b[39;49m\u001b[38;5;241;43m.\u001b[39;49m\u001b[43m_data_and_metadata\u001b[49m\u001b[43m(\u001b[49m\u001b[43malways_both\u001b[49m\u001b[38;5;241;43m=\u001b[39;49m\u001b[38;5;28;43;01mTrue\u001b[39;49;00m\u001b[43m)\u001b[49m\n\u001b[0;32m   1036\u001b[0m     \u001b[38;5;28;01mif\u001b[39;00m metadata:\n\u001b[0;32m   1037\u001b[0m         metadata \u001b[38;5;241m=\u001b[39m {mimetype: metadata}\n",
      "File \u001b[1;32mc:\\Users\\user\\anaconda3\\envs\\Test\\lib\\site-packages\\IPython\\core\\display.py:1047\u001b[0m, in \u001b[0;36mImage._data_and_metadata\u001b[1;34m(self, always_both)\u001b[0m\n\u001b[0;32m   1045\u001b[0m     b64_data \u001b[38;5;241m=\u001b[39m b2a_base64(\u001b[38;5;28mself\u001b[39m\u001b[38;5;241m.\u001b[39mdata, newline\u001b[38;5;241m=\u001b[39m\u001b[38;5;28;01mFalse\u001b[39;00m)\u001b[38;5;241m.\u001b[39mdecode(\u001b[38;5;124m\"\u001b[39m\u001b[38;5;124mascii\u001b[39m\u001b[38;5;124m\"\u001b[39m)\n\u001b[0;32m   1046\u001b[0m \u001b[38;5;28;01mexcept\u001b[39;00m \u001b[38;5;167;01mTypeError\u001b[39;00m \u001b[38;5;28;01mas\u001b[39;00m e:\n\u001b[1;32m-> 1047\u001b[0m     \u001b[38;5;28;01mraise\u001b[39;00m \u001b[38;5;167;01mFileNotFoundError\u001b[39;00m(\n\u001b[0;32m   1048\u001b[0m         \u001b[38;5;124m\"\u001b[39m\u001b[38;5;124mNo such file or directory: \u001b[39m\u001b[38;5;124m'\u001b[39m\u001b[38;5;132;01m%s\u001b[39;00m\u001b[38;5;124m'\u001b[39m\u001b[38;5;124m\"\u001b[39m \u001b[38;5;241m%\u001b[39m (\u001b[38;5;28mself\u001b[39m\u001b[38;5;241m.\u001b[39mdata)) \u001b[38;5;28;01mfrom\u001b[39;00m \u001b[38;5;21;01me\u001b[39;00m\n\u001b[0;32m   1049\u001b[0m md \u001b[38;5;241m=\u001b[39m {}\n\u001b[0;32m   1050\u001b[0m \u001b[38;5;28;01mif\u001b[39;00m \u001b[38;5;28mself\u001b[39m\u001b[38;5;241m.\u001b[39mmetadata:\n",
      "\u001b[1;31mFileNotFoundError\u001b[0m: No such file or directory: 'р'"
     ]
    },
    {
     "ename": "FileNotFoundError",
     "evalue": "No such file or directory: 'р'",
     "output_type": "error",
     "traceback": [
      "\u001b[1;31m---------------------------------------------------------------------------\u001b[0m",
      "\u001b[1;31mTypeError\u001b[0m                                 Traceback (most recent call last)",
      "File \u001b[1;32mc:\\Users\\user\\anaconda3\\envs\\Test\\lib\\site-packages\\IPython\\core\\display.py:1045\u001b[0m, in \u001b[0;36mImage._data_and_metadata\u001b[1;34m(self, always_both)\u001b[0m\n\u001b[0;32m   1044\u001b[0m \u001b[38;5;28;01mtry\u001b[39;00m:\n\u001b[1;32m-> 1045\u001b[0m     b64_data \u001b[38;5;241m=\u001b[39m \u001b[43mb2a_base64\u001b[49m\u001b[43m(\u001b[49m\u001b[38;5;28;43mself\u001b[39;49m\u001b[38;5;241;43m.\u001b[39;49m\u001b[43mdata\u001b[49m\u001b[43m,\u001b[49m\u001b[43m \u001b[49m\u001b[43mnewline\u001b[49m\u001b[38;5;241;43m=\u001b[39;49m\u001b[38;5;28;43;01mFalse\u001b[39;49;00m\u001b[43m)\u001b[49m\u001b[38;5;241m.\u001b[39mdecode(\u001b[38;5;124m\"\u001b[39m\u001b[38;5;124mascii\u001b[39m\u001b[38;5;124m\"\u001b[39m)\n\u001b[0;32m   1046\u001b[0m \u001b[38;5;28;01mexcept\u001b[39;00m \u001b[38;5;167;01mTypeError\u001b[39;00m \u001b[38;5;28;01mas\u001b[39;00m e:\n",
      "\u001b[1;31mTypeError\u001b[0m: a bytes-like object is required, not 'str'",
      "\nThe above exception was the direct cause of the following exception:\n",
      "\u001b[1;31mFileNotFoundError\u001b[0m                         Traceback (most recent call last)",
      "File \u001b[1;32mc:\\Users\\user\\anaconda3\\envs\\Test\\lib\\site-packages\\IPython\\core\\formatters.py:344\u001b[0m, in \u001b[0;36mBaseFormatter.__call__\u001b[1;34m(self, obj)\u001b[0m\n\u001b[0;32m    342\u001b[0m     method \u001b[38;5;241m=\u001b[39m get_real_method(obj, \u001b[38;5;28mself\u001b[39m\u001b[38;5;241m.\u001b[39mprint_method)\n\u001b[0;32m    343\u001b[0m     \u001b[38;5;28;01mif\u001b[39;00m method \u001b[38;5;129;01mis\u001b[39;00m \u001b[38;5;129;01mnot\u001b[39;00m \u001b[38;5;28;01mNone\u001b[39;00m:\n\u001b[1;32m--> 344\u001b[0m         \u001b[38;5;28;01mreturn\u001b[39;00m \u001b[43mmethod\u001b[49m\u001b[43m(\u001b[49m\u001b[43m)\u001b[49m\n\u001b[0;32m    345\u001b[0m     \u001b[38;5;28;01mreturn\u001b[39;00m \u001b[38;5;28;01mNone\u001b[39;00m\n\u001b[0;32m    346\u001b[0m \u001b[38;5;28;01melse\u001b[39;00m:\n",
      "File \u001b[1;32mc:\\Users\\user\\anaconda3\\envs\\Test\\lib\\site-packages\\IPython\\core\\display.py:1067\u001b[0m, in \u001b[0;36mImage._repr_png_\u001b[1;34m(self)\u001b[0m\n\u001b[0;32m   1065\u001b[0m \u001b[38;5;28;01mdef\u001b[39;00m \u001b[38;5;21m_repr_png_\u001b[39m(\u001b[38;5;28mself\u001b[39m):\n\u001b[0;32m   1066\u001b[0m     \u001b[38;5;28;01mif\u001b[39;00m \u001b[38;5;28mself\u001b[39m\u001b[38;5;241m.\u001b[39membed \u001b[38;5;129;01mand\u001b[39;00m \u001b[38;5;28mself\u001b[39m\u001b[38;5;241m.\u001b[39mformat \u001b[38;5;241m==\u001b[39m \u001b[38;5;28mself\u001b[39m\u001b[38;5;241m.\u001b[39m_FMT_PNG:\n\u001b[1;32m-> 1067\u001b[0m         \u001b[38;5;28;01mreturn\u001b[39;00m \u001b[38;5;28;43mself\u001b[39;49m\u001b[38;5;241;43m.\u001b[39;49m\u001b[43m_data_and_metadata\u001b[49m\u001b[43m(\u001b[49m\u001b[43m)\u001b[49m\n",
      "File \u001b[1;32mc:\\Users\\user\\anaconda3\\envs\\Test\\lib\\site-packages\\IPython\\core\\display.py:1047\u001b[0m, in \u001b[0;36mImage._data_and_metadata\u001b[1;34m(self, always_both)\u001b[0m\n\u001b[0;32m   1045\u001b[0m     b64_data \u001b[38;5;241m=\u001b[39m b2a_base64(\u001b[38;5;28mself\u001b[39m\u001b[38;5;241m.\u001b[39mdata, newline\u001b[38;5;241m=\u001b[39m\u001b[38;5;28;01mFalse\u001b[39;00m)\u001b[38;5;241m.\u001b[39mdecode(\u001b[38;5;124m\"\u001b[39m\u001b[38;5;124mascii\u001b[39m\u001b[38;5;124m\"\u001b[39m)\n\u001b[0;32m   1046\u001b[0m \u001b[38;5;28;01mexcept\u001b[39;00m \u001b[38;5;167;01mTypeError\u001b[39;00m \u001b[38;5;28;01mas\u001b[39;00m e:\n\u001b[1;32m-> 1047\u001b[0m     \u001b[38;5;28;01mraise\u001b[39;00m \u001b[38;5;167;01mFileNotFoundError\u001b[39;00m(\n\u001b[0;32m   1048\u001b[0m         \u001b[38;5;124m\"\u001b[39m\u001b[38;5;124mNo such file or directory: \u001b[39m\u001b[38;5;124m'\u001b[39m\u001b[38;5;132;01m%s\u001b[39;00m\u001b[38;5;124m'\u001b[39m\u001b[38;5;124m\"\u001b[39m \u001b[38;5;241m%\u001b[39m (\u001b[38;5;28mself\u001b[39m\u001b[38;5;241m.\u001b[39mdata)) \u001b[38;5;28;01mfrom\u001b[39;00m \u001b[38;5;21;01me\u001b[39;00m\n\u001b[0;32m   1049\u001b[0m md \u001b[38;5;241m=\u001b[39m {}\n\u001b[0;32m   1050\u001b[0m \u001b[38;5;28;01mif\u001b[39;00m \u001b[38;5;28mself\u001b[39m\u001b[38;5;241m.\u001b[39mmetadata:\n",
      "\u001b[1;31mFileNotFoundError\u001b[0m: No such file or directory: 'р'"
     ]
    },
    {
     "data": {
      "text/plain": [
       "<IPython.core.display.Image object>"
      ]
     },
     "execution_count": 5,
     "metadata": {},
     "output_type": "execute_result"
    }
   ],
   "source": [
    "# Передаем в переменную путь до нашего изображения\n",
    "image_path = send_car_number(r'C:\\Users\\user\\Downloads\\6db238b4e4748241dae5d6be8ad6970a.jpg')\n",
    "# Предсказываем\n",
    "#result = model.predict(image_path)\n",
    "clear_output()\n",
    "print(image_path[0])\n",
    "Image(image_path[1], width=400, height=640)\n"
   ]
  },
  {
   "cell_type": "markdown",
   "metadata": {},
   "source": [
    "# 3. Тест кейс"
   ]
  },
  {
   "cell_type": "code",
   "execution_count": 5,
   "metadata": {},
   "outputs": [
    {
     "name": "stdout",
     "output_type": "stream",
     "text": [
      "\n",
      "image 1/1 D:\\NumbersProject\\Модуль В\\data\\test_case\\1_11_2014_12_30_43_949.bmp: 480x640 1 simple n, 48.0ms\n",
      "Speed: 1.0ms preprocess, 48.0ms inference, 1.0ms postprocess per image at shape (1, 3, 480, 640)\n"
     ]
    },
    {
     "data": {
      "text/plain": [
       "[ultralytics.engine.results.Results object with attributes:\n",
       " \n",
       " boxes: ultralytics.engine.results.Boxes object\n",
       " keypoints: None\n",
       " masks: None\n",
       " names: {0: 'simple n', 1: 'militarry n', 2: 'goverment n', 3: 'police n'}\n",
       " obb: None\n",
       " orig_img: array([[[ 57,  62,  35],\n",
       "         [ 57,  62,  35],\n",
       "         [ 59,  64,  37],\n",
       "         ...,\n",
       "         [181, 147, 117],\n",
       "         [174, 143, 112],\n",
       "         [172, 141, 110]],\n",
       " \n",
       "        [[ 52,  57,  30],\n",
       "         [ 52,  57,  30],\n",
       "         [ 53,  58,  31],\n",
       "         ...,\n",
       "         [179, 145, 115],\n",
       "         [173, 142, 111],\n",
       "         [171, 140, 109]],\n",
       " \n",
       "        [[ 53,  58,  31],\n",
       "         [ 52,  57,  30],\n",
       "         [ 52,  57,  30],\n",
       "         ...,\n",
       "         [177, 143, 113],\n",
       "         [172, 141, 110],\n",
       "         [170, 139, 108]],\n",
       " \n",
       "        ...,\n",
       " \n",
       "        [[176, 164, 160],\n",
       "         [176, 164, 160],\n",
       "         [176, 164, 160],\n",
       "         ...,\n",
       "         [ 63,  57,  44],\n",
       "         [ 64,  58,  45],\n",
       "         [ 65,  59,  46]],\n",
       " \n",
       "        [[177, 165, 161],\n",
       "         [177, 165, 161],\n",
       "         [177, 165, 161],\n",
       "         ...,\n",
       "         [ 64,  58,  45],\n",
       "         [ 65,  59,  46],\n",
       "         [ 67,  61,  48]],\n",
       " \n",
       "        [[177, 165, 161],\n",
       "         [177, 165, 161],\n",
       "         [177, 165, 161],\n",
       "         ...,\n",
       "         [ 64,  58,  45],\n",
       "         [ 66,  60,  47],\n",
       "         [ 67,  61,  48]]], dtype=uint8)\n",
       " orig_shape: (480, 640)\n",
       " path: 'D:\\\\NumbersProject\\\\Модуль В\\\\data\\\\test_case\\\\1_11_2014_12_30_43_949.bmp'\n",
       " probs: None\n",
       " save_dir: None\n",
       " speed: {'preprocess': 1.0001659393310547, 'inference': 47.99914360046387, 'postprocess': 0.9999275207519531}]"
      ]
     },
     "execution_count": 5,
     "metadata": {},
     "output_type": "execute_result"
    }
   ],
   "source": [
    "# Передаем в переменную путь до нашего изображения\n",
    "image_path = r'D:\\NumbersProject\\Модуль В\\data\\test_case\\1_11_2014_12_30_43_949.bmp'\n",
    "# Предсказываем\n",
    "model.predict(image_path)"
   ]
  },
  {
   "cell_type": "markdown",
   "metadata": {},
   "source": [
    "# 4. Тест кейс"
   ]
  },
  {
   "cell_type": "code",
   "execution_count": 6,
   "metadata": {},
   "outputs": [
    {
     "name": "stdout",
     "output_type": "stream",
     "text": [
      "\n",
      "image 1/1 D:\\NumbersProject\\Модуль В\\data\\test_case\\1_11_2014_12_34_2_106.bmp: 480x640 1 simple n, 49.0ms\n",
      "Speed: 1.0ms preprocess, 49.0ms inference, 1.0ms postprocess per image at shape (1, 3, 480, 640)\n"
     ]
    },
    {
     "data": {
      "text/plain": [
       "[ultralytics.engine.results.Results object with attributes:\n",
       " \n",
       " boxes: ultralytics.engine.results.Boxes object\n",
       " keypoints: None\n",
       " masks: None\n",
       " names: {0: 'simple n', 1: 'militarry n', 2: 'goverment n', 3: 'police n'}\n",
       " obb: None\n",
       " orig_img: array([[[174, 168, 179],\n",
       "         [174, 168, 179],\n",
       "         [174, 168, 179],\n",
       "         ...,\n",
       "         [ 43,  48,  17],\n",
       "         [ 29,  34,   3],\n",
       "         [ 20,  25,   0]],\n",
       " \n",
       "        [[174, 168, 179],\n",
       "         [174, 168, 179],\n",
       "         [174, 168, 179],\n",
       "         ...,\n",
       "         [ 35,  40,   9],\n",
       "         [ 23,  28,   0],\n",
       "         [ 13,  18,   0]],\n",
       " \n",
       "        [[174, 168, 179],\n",
       "         [174, 168, 179],\n",
       "         [174, 168, 179],\n",
       "         ...,\n",
       "         [ 15,  20,   0],\n",
       "         [ 53,  57,  28],\n",
       "         [ 89,  93,  64]],\n",
       " \n",
       "        ...,\n",
       " \n",
       "        [[192, 182, 164],\n",
       "         [191, 181, 163],\n",
       "         [191, 181, 163],\n",
       "         ...,\n",
       "         [ 47,  44,  36],\n",
       "         [ 49,  46,  38],\n",
       "         [ 50,  47,  39]],\n",
       " \n",
       "        [[192, 182, 164],\n",
       "         [191, 181, 163],\n",
       "         [191, 181, 163],\n",
       "         ...,\n",
       "         [ 46,  43,  35],\n",
       "         [ 48,  45,  37],\n",
       "         [ 49,  46,  38]],\n",
       " \n",
       "        [[192, 182, 164],\n",
       "         [191, 181, 163],\n",
       "         [191, 181, 163],\n",
       "         ...,\n",
       "         [ 45,  42,  34],\n",
       "         [ 47,  44,  36],\n",
       "         [ 49,  46,  38]]], dtype=uint8)\n",
       " orig_shape: (480, 640)\n",
       " path: 'D:\\\\NumbersProject\\\\Модуль В\\\\data\\\\test_case\\\\1_11_2014_12_34_2_106.bmp'\n",
       " probs: None\n",
       " save_dir: None\n",
       " speed: {'preprocess': 0.9996891021728516, 'inference': 48.99954795837402, 'postprocess': 0.9996891021728516}]"
      ]
     },
     "execution_count": 6,
     "metadata": {},
     "output_type": "execute_result"
    }
   ],
   "source": [
    "# Передаем в переменную путь до нашего изображения\n",
    "image_path = r'D:\\NumbersProject\\Модуль В\\data\\test_case\\1_11_2014_12_34_2_106.bmp'\n",
    "# Предсказываем\n",
    "model.predict(image_path)"
   ]
  },
  {
   "cell_type": "markdown",
   "metadata": {},
   "source": [
    "# 5. Тест кейс"
   ]
  },
  {
   "cell_type": "code",
   "execution_count": 7,
   "metadata": {},
   "outputs": [
    {
     "name": "stdout",
     "output_type": "stream",
     "text": [
      "\n",
      "image 1/1 D:\\NumbersProject\\Модуль В\\data\\test_case\\1_11_2014_12_39_19_324.bmp: 480x640 1 simple n, 66.0ms\n",
      "Speed: 1.0ms preprocess, 66.0ms inference, 1.0ms postprocess per image at shape (1, 3, 480, 640)\n"
     ]
    },
    {
     "data": {
      "text/plain": [
       "[ultralytics.engine.results.Results object with attributes:\n",
       " \n",
       " boxes: ultralytics.engine.results.Boxes object\n",
       " keypoints: None\n",
       " masks: None\n",
       " names: {0: 'simple n', 1: 'militarry n', 2: 'goverment n', 3: 'police n'}\n",
       " obb: None\n",
       " orig_img: array([[[  4,   1,   0],\n",
       "         [  4,   1,   0],\n",
       "         [  4,   1,   0],\n",
       "         ...,\n",
       "         [255, 255, 250],\n",
       "         [255, 255, 250],\n",
       "         [255, 255, 250]],\n",
       " \n",
       "        [[  4,   1,   0],\n",
       "         [  4,   1,   0],\n",
       "         [  4,   1,   0],\n",
       "         ...,\n",
       "         [255, 255, 250],\n",
       "         [255, 255, 250],\n",
       "         [255, 255, 250]],\n",
       " \n",
       "        [[  2,   0,   0],\n",
       "         [  2,   0,   0],\n",
       "         [  2,   0,   0],\n",
       "         ...,\n",
       "         [255, 255, 251],\n",
       "         [255, 255, 251],\n",
       "         [255, 255, 251]],\n",
       " \n",
       "        ...,\n",
       " \n",
       "        [[  4,   4,   0],\n",
       "         [  4,   4,   0],\n",
       "         [  2,   4,   0],\n",
       "         ...,\n",
       "         [ 74,  71,  66],\n",
       "         [ 43,  40,  35],\n",
       "         [ 49,  46,  41]],\n",
       " \n",
       "        [[  4,   4,   0],\n",
       "         [  4,   4,   0],\n",
       "         [  4,   4,   0],\n",
       "         ...,\n",
       "         [ 87,  87,  81],\n",
       "         [ 40,  40,  34],\n",
       "         [ 62,  62,  56]],\n",
       " \n",
       "        [[  5,   5,   0],\n",
       "         [  5,   5,   0],\n",
       "         [  5,   5,   0],\n",
       "         ...,\n",
       "         [104, 104,  98],\n",
       "         [ 47,  47,  41],\n",
       "         [ 80,  80,  74]]], dtype=uint8)\n",
       " orig_shape: (480, 640)\n",
       " path: 'D:\\\\NumbersProject\\\\Модуль В\\\\data\\\\test_case\\\\1_11_2014_12_39_19_324.bmp'\n",
       " probs: None\n",
       " save_dir: None\n",
       " speed: {'preprocess': 0.99945068359375, 'inference': 65.99903106689453, 'postprocess': 0.99945068359375}]"
      ]
     },
     "execution_count": 7,
     "metadata": {},
     "output_type": "execute_result"
    }
   ],
   "source": [
    "# Передаем в переменную путь до нашего изображения\n",
    "image_path = r'D:\\NumbersProject\\Модуль В\\data\\test_case\\1_11_2014_12_39_19_324.bmp'\n",
    "# Предсказываем\n",
    "model.predict(image_path)"
   ]
  },
  {
   "cell_type": "markdown",
   "metadata": {},
   "source": [
    "# 6. Тест кейс"
   ]
  },
  {
   "cell_type": "code",
   "execution_count": 7,
   "metadata": {},
   "outputs": [
    {
     "name": "stdout",
     "output_type": "stream",
     "text": [
      "\n",
      "image 1/1 D:\\NumbersProject\\Модуль В\\data\\test_case\\1_11_2014_12_39_33_12.bmp: 480x640 2 simple ns, 49.0ms\n",
      "Speed: 1.0ms preprocess, 49.0ms inference, 0.0ms postprocess per image at shape (1, 3, 480, 640)\n"
     ]
    },
    {
     "data": {
      "text/plain": [
       "[ultralytics.engine.results.Results object with attributes:\n",
       " \n",
       " boxes: ultralytics.engine.results.Boxes object\n",
       " keypoints: None\n",
       " masks: None\n",
       " names: {0: 'simple n', 1: 'militarry n', 2: 'goverment n', 3: 'police n'}\n",
       " obb: None\n",
       " orig_img: array([[[  4,   2,   1],\n",
       "         [  4,   2,   1],\n",
       "         [  4,   2,   1],\n",
       "         ...,\n",
       "         [103,  89,  71],\n",
       "         [ 90,  76,  58],\n",
       "         [ 68,  54,  36]],\n",
       " \n",
       "        [[  4,   2,   1],\n",
       "         [  4,   2,   1],\n",
       "         [  4,   2,   1],\n",
       "         ...,\n",
       "         [ 97,  83,  65],\n",
       "         [101,  87,  69],\n",
       "         [ 92,  78,  60]],\n",
       " \n",
       "        [[  4,   2,   1],\n",
       "         [  4,   2,   1],\n",
       "         [  4,   2,   1],\n",
       "         ...,\n",
       "         [ 86,  72,  54],\n",
       "         [102,  88,  70],\n",
       "         [103,  89,  71]],\n",
       " \n",
       "        ...,\n",
       " \n",
       "        [[111,  92,  77],\n",
       "         [110,  92,  75],\n",
       "         [110,  91,  76],\n",
       "         ...,\n",
       "         [111,  82,  51],\n",
       "         [110,  83,  49],\n",
       "         [110,  83,  49]],\n",
       " \n",
       "        [[112,  90,  78],\n",
       "         [112,  91,  76],\n",
       "         [112,  90,  78],\n",
       "         ...,\n",
       "         [109,  82,  48],\n",
       "         [109,  82,  48],\n",
       "         [108,  81,  47]],\n",
       " \n",
       "        [[111,  89,  77],\n",
       "         [111,  89,  77],\n",
       "         [111,  89,  77],\n",
       "         ...,\n",
       "         [110,  83,  49],\n",
       "         [109,  82,  48],\n",
       "         [107,  80,  46]]], dtype=uint8)\n",
       " orig_shape: (480, 640)\n",
       " path: 'D:\\\\NumbersProject\\\\Модуль В\\\\data\\\\test_case\\\\1_11_2014_12_39_33_12.bmp'\n",
       " probs: None\n",
       " save_dir: None\n",
       " speed: {'preprocess': 1.0001659393310547, 'inference': 48.99883270263672, 'postprocess': 0.0}]"
      ]
     },
     "execution_count": 7,
     "metadata": {},
     "output_type": "execute_result"
    }
   ],
   "source": [
    "# Передаем в переменную путь до нашего изображения\n",
    "image_path = r'D:\\NumbersProject\\Модуль В\\data\\test_case\\1_11_2014_12_39_33_12.bmp'\n",
    "# Предсказываем\n",
    "model.predict(image_path)\n"
   ]
  },
  {
   "cell_type": "markdown",
   "metadata": {},
   "source": [
    "# 7. Тест кейс"
   ]
  },
  {
   "cell_type": "code",
   "execution_count": 8,
   "metadata": {},
   "outputs": [
    {
     "name": "stdout",
     "output_type": "stream",
     "text": [
      "\n",
      "image 1/1 D:\\NumbersProject\\Модуль В\\data\\test_case\\1_11_2014_12_40_21_74.bmp: 480x640 1 simple n, 53.0ms\n",
      "Speed: 1.0ms preprocess, 53.0ms inference, 1.0ms postprocess per image at shape (1, 3, 480, 640)\n"
     ]
    },
    {
     "data": {
      "text/plain": [
       "[ultralytics.engine.results.Results object with attributes:\n",
       " \n",
       " boxes: ultralytics.engine.results.Boxes object\n",
       " keypoints: None\n",
       " masks: None\n",
       " names: {0: 'simple n', 1: 'militarry n', 2: 'goverment n', 3: 'police n'}\n",
       " obb: None\n",
       " orig_img: array([[[255, 255, 255],\n",
       "         [255, 255, 255],\n",
       "         [255, 255, 255],\n",
       "         ...,\n",
       "         [ 68,  59,  39],\n",
       "         [ 71,  62,  42],\n",
       "         [ 61,  52,  32]],\n",
       " \n",
       "        [[255, 255, 255],\n",
       "         [255, 255, 255],\n",
       "         [255, 255, 255],\n",
       "         ...,\n",
       "         [ 72,  63,  43],\n",
       "         [ 62,  53,  33],\n",
       "         [ 43,  34,  14]],\n",
       " \n",
       "        [[255, 255, 255],\n",
       "         [255, 255, 255],\n",
       "         [255, 255, 255],\n",
       "         ...,\n",
       "         [ 80,  72,  49],\n",
       "         [ 67,  59,  36],\n",
       "         [ 47,  39,  16]],\n",
       " \n",
       "        ...,\n",
       " \n",
       "        [[185, 150, 136],\n",
       "         [185, 150, 136],\n",
       "         [185, 150, 136],\n",
       "         ...,\n",
       "         [  5,  44,   0],\n",
       "         [  2,  43,   0],\n",
       "         [  3,  44,   0]],\n",
       " \n",
       "        [[185, 150, 136],\n",
       "         [185, 150, 136],\n",
       "         [185, 150, 136],\n",
       "         ...,\n",
       "         [  4,  43,   0],\n",
       "         [  2,  41,   0],\n",
       "         [  2,  41,   0]],\n",
       " \n",
       "        [[185, 150, 136],\n",
       "         [185, 150, 136],\n",
       "         [185, 150, 136],\n",
       "         ...,\n",
       "         [  6,  45,   0],\n",
       "         [  2,  41,   0],\n",
       "         [  1,  40,   0]]], dtype=uint8)\n",
       " orig_shape: (480, 640)\n",
       " path: 'D:\\\\NumbersProject\\\\Модуль В\\\\data\\\\test_case\\\\1_11_2014_12_40_21_74.bmp'\n",
       " probs: None\n",
       " save_dir: None\n",
       " speed: {'preprocess': 1.0001659393310547, 'inference': 52.99878120422363, 'postprocess': 1.0004043579101562}]"
      ]
     },
     "execution_count": 8,
     "metadata": {},
     "output_type": "execute_result"
    }
   ],
   "source": [
    "# Передаем в переменную путь до нашего изображения\n",
    "image_path = r'D:\\NumbersProject\\Модуль В\\data\\test_case\\1_11_2014_12_40_21_74.bmp'\n",
    "# Предсказываем\n",
    "model.predict(image_path)"
   ]
  },
  {
   "cell_type": "markdown",
   "metadata": {},
   "source": [
    "# 8. Тест кейс"
   ]
  },
  {
   "cell_type": "code",
   "execution_count": 10,
   "metadata": {},
   "outputs": [
    {
     "name": "stdout",
     "output_type": "stream",
     "text": [
      "\n",
      "image 1/1 D:\\NumbersProject\\Модуль В\\data\\test_case\\12_6_2014_20_22_52_126.bmp: 480x640 1 simple n, 60.0ms\n",
      "Speed: 1.0ms preprocess, 60.0ms inference, 0.0ms postprocess per image at shape (1, 3, 480, 640)\n"
     ]
    },
    {
     "data": {
      "text/plain": [
       "[ultralytics.engine.results.Results object with attributes:\n",
       " \n",
       " boxes: ultralytics.engine.results.Boxes object\n",
       " keypoints: None\n",
       " masks: None\n",
       " names: {0: 'simple n', 1: 'militarry n', 2: 'goverment n', 3: 'police n'}\n",
       " obb: None\n",
       " orig_img: array([[[168, 158, 134],\n",
       "         [159, 149, 125],\n",
       "         [150, 136, 113],\n",
       "         ...,\n",
       "         [252, 203, 155],\n",
       "         [252, 203, 155],\n",
       "         [252, 203, 155]],\n",
       " \n",
       "        [[165, 155, 131],\n",
       "         [159, 147, 123],\n",
       "         [150, 136, 113],\n",
       "         ...,\n",
       "         [252, 203, 155],\n",
       "         [252, 203, 155],\n",
       "         [252, 203, 155]],\n",
       " \n",
       "        [[161, 149, 125],\n",
       "         [156, 144, 120],\n",
       "         [149, 135, 112],\n",
       "         ...,\n",
       "         [252, 203, 155],\n",
       "         [252, 203, 155],\n",
       "         [252, 203, 155]],\n",
       " \n",
       "        ...,\n",
       " \n",
       "        [[144, 146, 156],\n",
       "         [144, 146, 156],\n",
       "         [144, 146, 156],\n",
       "         ...,\n",
       "         [ 40,  39,  35],\n",
       "         [ 40,  39,  35],\n",
       "         [ 40,  39,  35]],\n",
       " \n",
       "        [[143, 145, 155],\n",
       "         [143, 145, 155],\n",
       "         [143, 145, 155],\n",
       "         ...,\n",
       "         [ 40,  39,  35],\n",
       "         [ 40,  39,  35],\n",
       "         [ 40,  39,  35]],\n",
       " \n",
       "        [[141, 143, 153],\n",
       "         [141, 143, 153],\n",
       "         [141, 143, 153],\n",
       "         ...,\n",
       "         [ 40,  39,  35],\n",
       "         [ 40,  39,  35],\n",
       "         [ 40,  39,  35]]], dtype=uint8)\n",
       " orig_shape: (480, 640)\n",
       " path: 'D:\\\\NumbersProject\\\\Модуль В\\\\data\\\\test_case\\\\12_6_2014_20_22_52_126.bmp'\n",
       " probs: None\n",
       " save_dir: None\n",
       " speed: {'preprocess': 0.9984970092773438, 'inference': 60.00113487243652, 'postprocess': 0.0}]"
      ]
     },
     "execution_count": 10,
     "metadata": {},
     "output_type": "execute_result"
    }
   ],
   "source": [
    "# Передаем в переменную путь до нашего изображения\n",
    "image_path = r'D:\\NumbersProject\\Модуль В\\data\\test_case\\12_6_2014_20_22_52_126.bmp'\n",
    "# Предсказываем\n",
    "model.predict(image_path)"
   ]
  },
  {
   "cell_type": "markdown",
   "metadata": {},
   "source": [
    "# 9. Тест кейс"
   ]
  },
  {
   "cell_type": "code",
   "execution_count": 11,
   "metadata": {},
   "outputs": [
    {
     "name": "stdout",
     "output_type": "stream",
     "text": [
      "\n",
      "image 1/1 D:\\NumbersProject\\Модуль В\\data\\test_case\\12_6_2014_20_22_58_648.bmp: 480x640 1 simple n, 51.0ms\n",
      "Speed: 1.0ms preprocess, 51.0ms inference, 1.0ms postprocess per image at shape (1, 3, 480, 640)\n"
     ]
    },
    {
     "data": {
      "text/plain": [
       "[ultralytics.engine.results.Results object with attributes:\n",
       " \n",
       " boxes: ultralytics.engine.results.Boxes object\n",
       " keypoints: None\n",
       " masks: None\n",
       " names: {0: 'simple n', 1: 'militarry n', 2: 'goverment n', 3: 'police n'}\n",
       " obb: None\n",
       " orig_img: array([[[154, 125,  98],\n",
       "         [153, 124,  97],\n",
       "         [153, 123,  96],\n",
       "         ...,\n",
       "         [253, 195, 146],\n",
       "         [253, 195, 146],\n",
       "         [253, 195, 146]],\n",
       " \n",
       "        [[156, 127, 100],\n",
       "         [155, 126,  99],\n",
       "         [155, 125,  98],\n",
       "         ...,\n",
       "         [253, 195, 146],\n",
       "         [253, 195, 146],\n",
       "         [253, 195, 146]],\n",
       " \n",
       "        [[166, 137, 110],\n",
       "         [166, 137, 110],\n",
       "         [165, 135, 108],\n",
       "         ...,\n",
       "         [253, 195, 146],\n",
       "         [253, 195, 146],\n",
       "         [253, 195, 146]],\n",
       " \n",
       "        ...,\n",
       " \n",
       "        [[136, 141, 150],\n",
       "         [136, 141, 150],\n",
       "         [136, 141, 150],\n",
       "         ...,\n",
       "         [ 46,  37,  33],\n",
       "         [ 46,  37,  33],\n",
       "         [ 46,  37,  33]],\n",
       " \n",
       "        [[138, 143, 152],\n",
       "         [138, 143, 152],\n",
       "         [138, 143, 152],\n",
       "         ...,\n",
       "         [ 46,  37,  33],\n",
       "         [ 46,  37,  33],\n",
       "         [ 46,  37,  33]],\n",
       " \n",
       "        [[138, 143, 152],\n",
       "         [138, 143, 152],\n",
       "         [138, 143, 152],\n",
       "         ...,\n",
       "         [ 46,  37,  33],\n",
       "         [ 46,  37,  33],\n",
       "         [ 46,  37,  33]]], dtype=uint8)\n",
       " orig_shape: (480, 640)\n",
       " path: 'D:\\\\NumbersProject\\\\Модуль В\\\\data\\\\test_case\\\\12_6_2014_20_22_58_648.bmp'\n",
       " probs: None\n",
       " save_dir: None\n",
       " speed: {'preprocess': 1.0001659393310547, 'inference': 50.997257232666016, 'postprocess': 0.9999275207519531}]"
      ]
     },
     "execution_count": 11,
     "metadata": {},
     "output_type": "execute_result"
    }
   ],
   "source": [
    "# Передаем в переменную путь до нашего изображения\n",
    "image_path = r'D:\\NumbersProject\\Модуль В\\data\\test_case\\12_6_2014_20_22_58_648.bmp'\n",
    "# Предсказываем\n",
    "model.predict(image_path)"
   ]
  },
  {
   "cell_type": "markdown",
   "metadata": {},
   "source": [
    "# 10. Тест кейс"
   ]
  },
  {
   "cell_type": "code",
   "execution_count": 4,
   "metadata": {},
   "outputs": [
    {
     "name": "stdout",
     "output_type": "stream",
     "text": [
      "\n",
      "image 1/1 D:\\NumbersProject\\Модуль В\\data\\test_case\\12_6_2014_20_23_24_189.bmp: 480x640 1 simple n, 65.0ms\n",
      "Speed: 4.0ms preprocess, 65.0ms inference, 5.0ms postprocess per image at shape (1, 3, 480, 640)\n"
     ]
    },
    {
     "data": {
      "text/plain": [
       "[ultralytics.engine.results.Results object with attributes:\n",
       " \n",
       " boxes: ultralytics.engine.results.Boxes object\n",
       " keypoints: None\n",
       " masks: None\n",
       " names: {0: 'simple n', 1: 'militarry n', 2: 'goverment n', 3: 'police n'}\n",
       " obb: None\n",
       " orig_img: array([[[249, 239, 251],\n",
       "         [249, 239, 251],\n",
       "         [249, 239, 251],\n",
       "         ...,\n",
       "         [132, 135, 120],\n",
       "         [139, 142, 127],\n",
       "         [144, 147, 132]],\n",
       " \n",
       "        [[249, 239, 251],\n",
       "         [249, 239, 251],\n",
       "         [249, 239, 251],\n",
       "         ...,\n",
       "         [134, 137, 122],\n",
       "         [140, 143, 128],\n",
       "         [143, 146, 131]],\n",
       " \n",
       "        [[249, 239, 251],\n",
       "         [249, 239, 251],\n",
       "         [249, 239, 251],\n",
       "         ...,\n",
       "         [137, 140, 125],\n",
       "         [140, 143, 128],\n",
       "         [143, 146, 131]],\n",
       " \n",
       "        ...,\n",
       " \n",
       "        [[112, 114, 115],\n",
       "         [112, 114, 115],\n",
       "         [112, 114, 115],\n",
       "         ...,\n",
       "         [107, 106, 108],\n",
       "         [106, 105, 107],\n",
       "         [106, 105, 107]],\n",
       " \n",
       "        [[110, 114, 115],\n",
       "         [110, 114, 115],\n",
       "         [110, 114, 115],\n",
       "         ...,\n",
       "         [107, 106, 108],\n",
       "         [106, 105, 107],\n",
       "         [106, 105, 107]],\n",
       " \n",
       "        [[110, 114, 115],\n",
       "         [110, 114, 115],\n",
       "         [110, 114, 115],\n",
       "         ...,\n",
       "         [107, 106, 108],\n",
       "         [106, 105, 107],\n",
       "         [106, 105, 107]]], dtype=uint8)\n",
       " orig_shape: (480, 640)\n",
       " path: 'D:\\\\NumbersProject\\\\Модуль В\\\\data\\\\test_case\\\\12_6_2014_20_23_24_189.bmp'\n",
       " probs: None\n",
       " save_dir: None\n",
       " speed: {'preprocess': 4.001617431640625, 'inference': 64.99862670898438, 'postprocess': 5.000114440917969}]"
      ]
     },
     "execution_count": 4,
     "metadata": {},
     "output_type": "execute_result"
    }
   ],
   "source": [
    "# Передаем в переменную путь до нашего изображения\n",
    "image_path = r'D:\\NumbersProject\\Модуль В\\data\\test_case\\12_6_2014_20_23_24_189.bmp'\n",
    "# Предсказываем\n",
    "model.predict(image_path)"
   ]
  }
 ],
 "metadata": {
  "kernelspec": {
   "display_name": "Python 3",
   "language": "python",
   "name": "python3"
  },
  "language_info": {
   "codemirror_mode": {
    "name": "ipython",
    "version": 3
   },
   "file_extension": ".py",
   "mimetype": "text/x-python",
   "name": "python",
   "nbconvert_exporter": "python",
   "pygments_lexer": "ipython3",
   "version": "3.9.19"
  }
 },
 "nbformat": 4,
 "nbformat_minor": 2
}
